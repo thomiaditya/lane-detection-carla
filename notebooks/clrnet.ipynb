{
 "cells": [
  {
   "cell_type": "code",
   "execution_count": 1,
   "metadata": {},
   "outputs": [
    {
     "name": "stderr",
     "output_type": "stream",
     "text": [
      "c:\\Users\\thomi\\scoop\\apps\\miniconda3\\current\\envs\\clrnet\\lib\\site-packages\\tqdm-4.65.0-py3.8.egg\\tqdm\\auto.py:21: TqdmWarning: IProgress not found. Please update jupyter and ipywidgets. See https://ipywidgets.readthedocs.io/en/stable/user_install.html\n",
      "  from .autonotebook import tqdm as notebook_tqdm\n"
     ]
    }
   ],
   "source": [
    "from carlanet.simulator.CLRNet import CLRNet\n",
    "import os\n",
    "from os import path as osp\n",
    "import cv2"
   ]
  },
  {
   "cell_type": "code",
   "execution_count": 2,
   "metadata": {},
   "outputs": [],
   "source": [
    "current_file_path = \"G:\\\\all-project\\\\thesis-project\\\\carlanet\""
   ]
  },
  {
   "cell_type": "code",
   "execution_count": 3,
   "metadata": {},
   "outputs": [
    {
     "name": "stdout",
     "output_type": "stream",
     "text": [
      "pretrained model:  https://download.pytorch.org/models/resnet34-333f7ec4.pth\n"
     ]
    }
   ],
   "source": [
    "detector = CLRNet(config_path=osp.join(current_file_path, \"model\", \"clr_resnet34_culane.py\"), weight_path=osp.join(current_file_path, \"model\", \"culane_r34.pth\"))"
   ]
  },
  {
   "cell_type": "code",
   "execution_count": 4,
   "metadata": {},
   "outputs": [],
   "source": [
    "image = cv2.imread(\"0004.jpg\")"
   ]
  },
  {
   "cell_type": "code",
   "execution_count": 5,
   "metadata": {},
   "outputs": [],
   "source": [
    "preds = detector.run(image, out_file=\"pred_test_clr.jpg\")"
   ]
  },
  {
   "cell_type": "code",
   "execution_count": 7,
   "metadata": {},
   "outputs": [
    {
     "name": "stdout",
     "output_type": "stream",
     "text": [
      "Saved 466 images to G:\\all-project\\thesis-project\\carlanet\\detection-results\\CLRNET_Town10_HD_ClearSunsetNone\\straight\\0004.jpgjpg\n",
      "Saved 1088 images to G:\\all-project\\thesis-project\\carlanet\\detection-results\\CLRNET_Town10_HD_HardRainSunsetRight\\straight\\0014.jpgpg\n"
     ]
    }
   ],
   "source": [
    "import os\n",
    "\n",
    "def process_image(file_path, save_path):\n",
    "    \"\"\"Process an image and save the detection result.\"\"\"\n",
    "    image = cv2.imread(file_path)\n",
    "    preds = detector.run(image, out_file=save_path)\n",
    "\n",
    "def process_directory_recursive(input_dir, base_output_dir):\n",
    "    \"\"\"Recursively process all images in a directory and save results.\"\"\"\n",
    "    count = 0\n",
    "    for root, _, files in os.walk(input_dir):\n",
    "        for file in files:\n",
    "            if file.lower().endswith(('.png', '.jpg', '.jpeg')):\n",
    "                file_path = os.path.join(root, file)\n",
    "                \n",
    "                # Create the output path, keeping the directory structure but changing the root\n",
    "                rel_path = os.path.relpath(file_path, input_dir)\n",
    "                output_file_path = os.path.join(base_output_dir, rel_path)\n",
    "                \n",
    "                # Ensure the directory exists\n",
    "                output_dir = os.path.dirname(output_file_path)\n",
    "                os.makedirs(output_dir, exist_ok=True)\n",
    "                \n",
    "                process_image(file_path, output_file_path)\n",
    "                print(f\"Saved {count} image to {output_file_path}\", end='\\r')\n",
    "                count += 1\n",
    "\n",
    "    return count\n",
    "\n",
    "dirs = [\"Town10_HD_ClearSunset\", \"Town10_HD_HardRainSunset\"]\n",
    "\n",
    "for dir in dirs:\n",
    "    dir_path = f'G:\\\\all-project\\\\test-lanedetection\\\\Carla-Lane-Detection-Dataset-Generation\\\\data\\\\dataset\\\\{dir}'\n",
    "    output_directory = f'G:\\\\all-project\\\\thesis-project\\\\carlanet\\\\detection-results\\\\CLRNET_{dir}'\n",
    "    # Create output directory\n",
    "    os.makedirs(output_directory, exist_ok=True)\n",
    "    count = process_directory_recursive(dir_path, output_directory)\n",
    "    print(f\"Saved {count} images to {output_directory}\")\n",
    "\n",
    "    with open(f'{output_directory}/count.txt', 'w+') as f:\n",
    "        f.write(str(count))"
   ]
  }
 ],
 "metadata": {
  "kernelspec": {
   "display_name": "clrnet",
   "language": "python",
   "name": "python3"
  },
  "language_info": {
   "codemirror_mode": {
    "name": "ipython",
    "version": 3
   },
   "file_extension": ".py",
   "mimetype": "text/x-python",
   "name": "python",
   "nbconvert_exporter": "python",
   "pygments_lexer": "ipython3",
   "version": "3.8.16"
  },
  "orig_nbformat": 4
 },
 "nbformat": 4,
 "nbformat_minor": 2
}
